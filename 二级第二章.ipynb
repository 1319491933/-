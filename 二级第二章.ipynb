{
 "cells": [
  {
   "cell_type": "code",
   "execution_count": null,
   "metadata": {},
   "outputs": [],
   "source": [
    "#复数\n",
    "a=100+200j  \n",
    "print(a)\n",
    "print(a.real)  #实数\n",
    "print(a.imag)  #虚数"
   ]
  },
  {
   "cell_type": "code",
   "execution_count": null,
   "metadata": {},
   "outputs": [],
   "source": [
    "len  #记录长度"
   ]
  },
  {
   "cell_type": "code",
   "execution_count": null,
   "metadata": {},
   "outputs": [],
   "source": [
    "#给多个变量赋值\n",
    "x,y=1+1,2+2\n",
    "print(x,y)\n",
    "\n",
    "#互换变量的值\n",
    "a,b=1,2\n",
    "a,b=b,a\n",
    "print(a,b)"
   ]
  },
  {
   "cell_type": "code",
   "execution_count": null,
   "metadata": {},
   "outputs": [],
   "source": [
    "#调用turtle库进行绘图操作  二级书p28\n",
    "import turtle\n",
    "turtle.fd(-200)\n",
    "turtle.right(90)\n",
    "turtle.circle(200)"
   ]
  },
  {
   "cell_type": "code",
   "execution_count": null,
   "metadata": {},
   "outputs": [],
   "source": [
    "# format方法\n",
    "a=100\n",
    "print(\"a={}\".format(a),end=\"...\")"
   ]
  },
  {
   "cell_type": "code",
   "execution_count": 1,
   "metadata": {},
   "outputs": [
    {
     "name": "stdout",
     "output_type": "stream",
     "text": [
      "请输入一串:abcdefg\n",
      "gfedcba"
     ]
    }
   ],
   "source": [
    "#倒序输出字符串\n",
    "s=input(\"请输入一串:\")\n",
    "i=len(s)-1   #字符串长度\n",
    "while i>=0:\n",
    "    print(s[i],end=\"\")  #字符下标\n",
    "    i=i-1"
   ]
  },
  {
   "cell_type": "code",
   "execution_count": 4,
   "metadata": {},
   "outputs": [
    {
     "name": "stdout",
     "output_type": "stream",
     "text": [
      "111:123\n",
      "321"
     ]
    }
   ],
   "source": [
    "a=input(\"111:\")\n",
    "b=len(a)-1\n",
    "for i in range(len(a)):\n",
    "    if b>=0:\n",
    "        print(a[b],end=\"\")\n",
    "        b-=1"
   ]
  },
  {
   "cell_type": "code",
   "execution_count": 5,
   "metadata": {},
   "outputs": [
    {
     "name": "stdout",
     "output_type": "stream",
     "text": [
      "请输入一串:123\n",
      "321"
     ]
    }
   ],
   "source": [
    "s=input(\"请输入一串:\")\n",
    "i=-1\n",
    "while i>=-1*len(s):\n",
    "    print(s[i],end=\"\")\n",
    "    i-=1"
   ]
  },
  {
   "cell_type": "code",
   "execution_count": 6,
   "metadata": {},
   "outputs": [
    {
     "name": "stdout",
     "output_type": "stream",
     "text": [
      "请输入一串:123\n",
      "321\n"
     ]
    }
   ],
   "source": [
    "s=input(\"请输入一串:\")\n",
    "print(a[::-1])"
   ]
  },
  {
   "cell_type": "code",
   "execution_count": 8,
   "metadata": {},
   "outputs": [
    {
     "name": "stdout",
     "output_type": "stream",
     "text": [
      "请输入:1.254\n",
      "1\n"
     ]
    }
   ],
   "source": [
    "#获取输入的浮点数的正数部分\n",
    "a=eval(input(\"请输入:\"))\n",
    "b=int(a)\n",
    "print(b)"
   ]
  },
  {
   "cell_type": "code",
   "execution_count": 19,
   "metadata": {},
   "outputs": [
    {
     "name": "stdout",
     "output_type": "stream",
     "text": [
      "请输入n:100\n",
      "1到n的和结果:5050\n"
     ]
    }
   ],
   "source": [
    "sum=0\n",
    "n=eval(input(\"请输入n:\"))\n",
    "for i in range(n+1):     #不到当前n的范围，所以加1\n",
    "    sum=sum+i\n",
    "print(\"1到n的和结果:{}\".format(sum))\n"
   ]
  },
  {
   "cell_type": "code",
   "execution_count": null,
   "metadata": {},
   "outputs": [],
   "source": []
  }
 ],
 "metadata": {
  "kernelspec": {
   "display_name": "Python 3",
   "language": "python",
   "name": "python3"
  },
  "language_info": {
   "codemirror_mode": {
    "name": "ipython",
    "version": 3
   },
   "file_extension": ".py",
   "mimetype": "text/x-python",
   "name": "python",
   "nbconvert_exporter": "python",
   "pygments_lexer": "ipython3",
   "version": "3.7.1"
  }
 },
 "nbformat": 4,
 "nbformat_minor": 2
}
