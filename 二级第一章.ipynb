{
 "cells": [
  {
   "cell_type": "markdown",
   "metadata": {},
   "source": [
    "# 二级第一章"
   ]
  },
  {
   "cell_type": "code",
   "execution_count": null,
   "metadata": {},
   "outputs": [],
   "source": [
    "import turtle   #绘制七彩圆圈\n",
    "colors=[\"red\",\"orange\",\"yellow\",\"blue\",\"indigo\",\"purple\"]\n",
    "for i in range(7):\n",
    "    c=colors[i]\n",
    "    turtle.color(c,c)\n",
    "    turtle.begin_fill()\n",
    "    turtle.rt(360/7)\n",
    "    turtle.circle(50)\n",
    "    turtle.end_fill()\n",
    "turtle.done()"
   ]
  },
  {
   "cell_type": "code",
   "execution_count": null,
   "metadata": {},
   "outputs": [],
   "source": [
    "import time   #对一个循环计数一千万次的程序记录并输出其运行时间\n",
    "limit=10*1000*1000\n",
    "start=time.perf_counter()\n",
    "while True:\n",
    "    limit=limit-1\n",
    "    if limit<=0:\n",
    "        break\n",
    "delta=time.perf_counter()-start\n",
    "print(\"程序运行的时间是:{}秒\".format(delta))"
   ]
  },
  {
   "cell_type": "code",
   "execution_count": null,
   "metadata": {},
   "outputs": [],
   "source": [
    "from turtle import *   #绘制五角星\n",
    "color(\"red\",\"red\")\n",
    "begin_fill()\n",
    "for i in range(5):\n",
    "    fd(200)\n",
    "    rt(144)\n",
    "end_fill()\n",
    "done()  \n",
    "    "
   ]
  },
  {
   "cell_type": "code",
   "execution_count": null,
   "metadata": {},
   "outputs": [],
   "source": [
    "import time  #显示当前时间\n",
    "time.ctime()"
   ]
  },
  {
   "cell_type": "code",
   "execution_count": 11,
   "metadata": {},
   "outputs": [
    {
     "name": "stdout",
     "output_type": "stream",
     "text": [
      "a,b,c,d,e\n",
      "1-2\n"
     ]
    }
   ],
   "source": [
    "ls=[\"a\",\"b\",\"c\",\"d\",\"e\"]\n",
    "print(\",\".join(ls))\n",
    "print(\"{}-{}\".format(\"1\",\"2\"))"
   ]
  },
  {
   "cell_type": "code",
   "execution_count": 14,
   "metadata": {},
   "outputs": [
    {
     "name": "stdout",
     "output_type": "stream",
     "text": [
      "请输入您的名字:11\n",
      "请输入您的悄悄话22\n",
      "name，听我说的悄悄话:s*3\n"
     ]
    }
   ],
   "source": [
    "name=input(\"请输入您的名字:\")\n",
    "s=input(\"请输入您的悄悄话\")\n",
    "print(\"{}，听我说的悄悄话:{}\".format(name,s*3))"
   ]
  },
  {
   "cell_type": "code",
   "execution_count": 53,
   "metadata": {},
   "outputs": [
    {
     "name": "stdout",
     "output_type": "stream",
     "text": [
      "\n",
      "1*1= 1 \n",
      "1*2= 2 2*2= 4 \n",
      "1*3= 3 2*3= 6 3*3= 9 \n",
      "1*4= 4 2*4= 8 3*4=12 4*4=16 \n",
      "1*5= 5 2*5=10 3*5=15 4*5=20 5*5=25 \n",
      "1*6= 6 2*6=12 3*6=18 4*6=24 5*6=30 6*6=36 \n",
      "1*7= 7 2*7=14 3*7=21 4*7=28 5*7=35 6*7=42 7*7=49 \n",
      "1*8= 8 2*8=16 3*8=24 4*8=32 5*8=40 6*8=48 7*8=56 8*8=64 \n",
      "1*9= 9 2*9=18 3*9=27 4*9=36 5*9=45 6*9=54 7*9=63 8*9=72 9*9=81 \n"
     ]
    }
   ],
   "source": [
    "for i in range(10):\n",
    "    for j in range(1,i+1):\n",
    "        print(\"{}*{}={:2}\".format(j,i,j*i),end=\" \")\n",
    "    print(\"\")"
   ]
  },
  {
   "cell_type": "code",
   "execution_count": null,
   "metadata": {},
   "outputs": [],
   "source": [
    "#九九乘法口诀\n",
    "i=1\n",
    "while i<10:\n",
    "    j=1\n",
    "    while j<=i:\n",
    "        print(\"{}*{}={:2}\".format(i,j,i*j),end=\" \")\n",
    "        j+=1\n",
    "    print(\"\\n\")\n",
    "    i+=1"
   ]
  },
  {
   "cell_type": "code",
   "execution_count": 4,
   "metadata": {},
   "outputs": [
    {
     "name": "stdout",
     "output_type": "stream",
     "text": [
      "11Q\n",
      "11Q\n",
      "11Q\n",
      "QQQ\n"
     ]
    }
   ],
   "source": [
    "hobbies=\"\"\n",
    "for i in range(3):\n",
    "    s=input(\"11\")\n",
    "    if s.upper==\"Q\":\n",
    "        break\n",
    "    hobbies+=s+\"\"xuprint(hobbies)"
   ]
  },
  {
   "cell_type": "code",
   "execution_count": 4,
   "metadata": {},
   "outputs": [
    {
     "name": "stdout",
     "output_type": "stream",
     "text": [
      "abcdef\n"
     ]
    }
   ],
   "source": [
    "#续行符    \n",
    "print(\"abc\\\n",
    "d\\\n",
    "ef\")"
   ]
  },
  {
   "cell_type": "code",
   "execution_count": null,
   "metadata": {},
   "outputs": [],
   "source": []
  }
 ],
 "metadata": {
  "kernelspec": {
   "display_name": "Python 3",
   "language": "python",
   "name": "python3"
  },
  "language_info": {
   "codemirror_mode": {
    "name": "ipython",
    "version": 3
   },
   "file_extension": ".py",
   "mimetype": "text/x-python",
   "name": "python",
   "nbconvert_exporter": "python",
   "pygments_lexer": "ipython3",
   "version": "3.7.1"
  }
 },
 "nbformat": 4,
 "nbformat_minor": 2
}
